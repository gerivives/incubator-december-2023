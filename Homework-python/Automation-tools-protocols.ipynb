{
 "cells": [
  {
   "cell_type": "markdown",
   "id": "36d2963a",
   "metadata": {},
   "source": [
    "# Configure & verify OSPF config on Cat8000v"
   ]
  },
  {
   "cell_type": "markdown",
   "id": "a52ce9fe",
   "metadata": {},
   "source": [
    "### For this notebook, it has been very useful to work with Cisco's YANG Suite, which streamlines the process of working with RESTCONF and NETCONF, creating filters, navigating the hierarchy of modules, etc. To do so, first you have to import the YANG modules from the repository of the device you are working with. In this case, it can be found at https://github.com/YangModels/yang/tree/main/vendor/cisco/xe/17121"
   ]
  },
  {
   "cell_type": "markdown",
   "id": "995c80de",
   "metadata": {},
   "source": [
    "<img src=\"./images/1-yang-repository.png\" alt=\"Yang repository import\"/>"
   ]
  },
  {
   "cell_type": "markdown",
   "id": "d1b9e899",
   "metadata": {},
   "source": [
    "### Then, you have to create a YANG set with all the desired modules. In this case, all of the have been selected. However, only Cisco-IOS-XE-native is required for this notebook"
   ]
  },
  {
   "cell_type": "markdown",
   "id": "2de310de",
   "metadata": {},
   "source": [
    "<img src=\"./images/2-yang-module-set.png\" alt=\"Module set definition\"/>"
   ]
  },
  {
   "cell_type": "markdown",
   "id": "78583f34",
   "metadata": {},
   "source": [
    "### After this, we have to create the a profile for the device we will be working with. We can set the address, username, password, as well as the RESTCONF and NETCONF configuration parameters. By doing this, we can directly interact with the device and send requests using these two protocols in the same Cisco YANG Suite."
   ]
  },
  {
   "cell_type": "markdown",
   "id": "0ca62b32",
   "metadata": {},
   "source": [
    "<img src=\"./images/3-device-profile.png\" alt=\"Device profile configuration\"/>"
   ]
  },
  {
   "cell_type": "markdown",
   "id": "1b2ff432",
   "metadata": {},
   "source": [
    "### In these last two screenshots, we can see how we are working with the NETCONF and RESTCONF protocols for this device."
   ]
  },
  {
   "cell_type": "markdown",
   "id": "621993d3",
   "metadata": {},
   "source": [
    "<img src=\"./images/4-netconf-get-example.png\" alt=\"Netconf XML example\"/>"
   ]
  },
  {
   "cell_type": "markdown",
   "id": "63c77d7e",
   "metadata": {},
   "source": [
    "<img src=\"./images/5-restconf-endpoint-example.png\" alt=\"Restconf endpoint example\"/>"
   ]
  },
  {
   "cell_type": "markdown",
   "id": "b0e3e0c0",
   "metadata": {},
   "source": [
    "# Configure OSPF using NETCONF"
   ]
  },
  {
   "cell_type": "code",
   "execution_count": 1,
   "id": "87356b13",
   "metadata": {},
   "outputs": [],
   "source": [
    "import ncclient.manager\n",
    "from ncclient.operations import TimeoutExpiredError\n",
    "import xml.dom.minidom\n",
    "import pandas as pd"
   ]
  },
  {
   "cell_type": "markdown",
   "id": "8f651592",
   "metadata": {},
   "source": [
    "Dictionary containing all the necessary information to connect to the CAT8Kv. Abstracted from the code in order to provide this script as a \"module\", therefore adapting it quickly to new devices."
   ]
  },
  {
   "cell_type": "code",
   "execution_count": 2,
   "id": "89241717",
   "metadata": {},
   "outputs": [],
   "source": [
    "host_info = {\n",
    "    'ip': '10.10.20.48',\n",
    "    'username': 'developer',\n",
    "    'pwd': 'C1sco12345',\n",
    "    'netconf_port': '830',\n",
    "    'restconf_port': '443'\n",
    "}"
   ]
  },
  {
   "attachments": {},
   "cell_type": "markdown",
   "id": "59d20e6e",
   "metadata": {},
   "source": [
    "### Write sample OSPF configuration to spreadsheet"
   ]
  },
  {
   "cell_type": "markdown",
   "id": "1c71eba4",
   "metadata": {},
   "source": [
    "Sample OSPF configuration that will be installed on the device using RESTCONF. First, it will be saved to a spreadsheet. If we need to adjust the configuration in the spreadsheet manually to account for some changes, we can run the code from the cell where the configuration is read from the spreadsheet to make them effective."
   ]
  },
  {
   "cell_type": "code",
   "execution_count": 3,
   "id": "4a5b67ad",
   "metadata": {},
   "outputs": [
    {
     "name": "stdout",
     "output_type": "stream",
     "text": [
      "*** Spreadsheet successfuly filled with the data! ***\n"
     ]
    }
   ],
   "source": [
    "ospf_sheet = pd.ExcelWriter('ospf_conf.xlsx', engine='xlsxwriter')\n",
    "\n",
    "processes = [\n",
    "    {\n",
    "        'process_id': '1',\n",
    "        'router_id': '10.10.20.48'\n",
    "    },\n",
    "    {\n",
    "        'process_id': '5',\n",
    "        'router_id': '10.10.20.148'\n",
    "    }\n",
    "]\n",
    "\n",
    "networks = [\n",
    "    {\n",
    "        'process_id': '1',\n",
    "        'network': '10.10.20.0',\n",
    "        'wildmask': '0.0.0.255',\n",
    "        'area': '0'\n",
    "    },\n",
    "    {\n",
    "        'process_id': '1',\n",
    "        'network': '10.10.30.0',\n",
    "        'wildmask': '0.0.0.255',\n",
    "        'area': '0'\n",
    "    },\n",
    "    {\n",
    "        'process_id': '1',\n",
    "        'network': '10.10.40.0',\n",
    "        'wildmask': '0.0.0.255',\n",
    "        'area': '1'\n",
    "    },\n",
    "    {\n",
    "        'process_id': '1',\n",
    "        'network': '10.10.50.0',\n",
    "        'wildmask': '0.0.0.255',\n",
    "        'area': '1'\n",
    "    }\n",
    "]\n",
    "\n",
    "processes_df = pd.DataFrame(processes)\n",
    "networks_df = pd.DataFrame(networks)\n",
    "\n",
    "processes_df.to_excel(ospf_sheet, sheet_name='Processes', index=False)\n",
    "networks_df.to_excel(ospf_sheet, sheet_name='Networks', index=False)\n",
    "\n",
    "ospf_sheet.save()\n",
    "print(\"*** Spreadsheet successfuly filled with the data! ***\")"
   ]
  },
  {
   "cell_type": "markdown",
   "id": "b271f50f",
   "metadata": {},
   "source": [
    "### Load OSPF configuration from spreadsheet"
   ]
  },
  {
   "cell_type": "code",
   "execution_count": 4,
   "id": "21ab25c0",
   "metadata": {},
   "outputs": [],
   "source": [
    "ospf_sheet = pd.ExcelFile(\"ospf_conf.xlsx\", engine='openpyxl')\n",
    "\n",
    "processes_df = ospf_sheet.parse(\"Processes\")\n",
    "networks_df = ospf_sheet.parse(\"Networks\")"
   ]
  },
  {
   "cell_type": "code",
   "execution_count": 5,
   "id": "e8825015",
   "metadata": {
    "scrolled": true
   },
   "outputs": [
    {
     "data": {
      "text/html": [
       "<div>\n",
       "<style scoped>\n",
       "    .dataframe tbody tr th:only-of-type {\n",
       "        vertical-align: middle;\n",
       "    }\n",
       "\n",
       "    .dataframe tbody tr th {\n",
       "        vertical-align: top;\n",
       "    }\n",
       "\n",
       "    .dataframe thead th {\n",
       "        text-align: right;\n",
       "    }\n",
       "</style>\n",
       "<table border=\"1\" class=\"dataframe\">\n",
       "  <thead>\n",
       "    <tr style=\"text-align: right;\">\n",
       "      <th></th>\n",
       "      <th>process_id</th>\n",
       "      <th>router_id</th>\n",
       "    </tr>\n",
       "  </thead>\n",
       "  <tbody>\n",
       "    <tr>\n",
       "      <th>0</th>\n",
       "      <td>1</td>\n",
       "      <td>10.10.20.48</td>\n",
       "    </tr>\n",
       "    <tr>\n",
       "      <th>1</th>\n",
       "      <td>5</td>\n",
       "      <td>10.10.20.148</td>\n",
       "    </tr>\n",
       "  </tbody>\n",
       "</table>\n",
       "</div>"
      ],
      "text/plain": [
       "   process_id     router_id\n",
       "0           1   10.10.20.48\n",
       "1           5  10.10.20.148"
      ]
     },
     "execution_count": 5,
     "metadata": {},
     "output_type": "execute_result"
    }
   ],
   "source": [
    "processes_df"
   ]
  },
  {
   "cell_type": "code",
   "execution_count": 6,
   "id": "ccd47425",
   "metadata": {
    "scrolled": false
   },
   "outputs": [
    {
     "data": {
      "text/html": [
       "<div>\n",
       "<style scoped>\n",
       "    .dataframe tbody tr th:only-of-type {\n",
       "        vertical-align: middle;\n",
       "    }\n",
       "\n",
       "    .dataframe tbody tr th {\n",
       "        vertical-align: top;\n",
       "    }\n",
       "\n",
       "    .dataframe thead th {\n",
       "        text-align: right;\n",
       "    }\n",
       "</style>\n",
       "<table border=\"1\" class=\"dataframe\">\n",
       "  <thead>\n",
       "    <tr style=\"text-align: right;\">\n",
       "      <th></th>\n",
       "      <th>process_id</th>\n",
       "      <th>network</th>\n",
       "      <th>wildmask</th>\n",
       "      <th>area</th>\n",
       "    </tr>\n",
       "  </thead>\n",
       "  <tbody>\n",
       "    <tr>\n",
       "      <th>0</th>\n",
       "      <td>1</td>\n",
       "      <td>10.10.20.0</td>\n",
       "      <td>0.0.0.255</td>\n",
       "      <td>0</td>\n",
       "    </tr>\n",
       "    <tr>\n",
       "      <th>1</th>\n",
       "      <td>1</td>\n",
       "      <td>10.10.30.0</td>\n",
       "      <td>0.0.0.255</td>\n",
       "      <td>0</td>\n",
       "    </tr>\n",
       "    <tr>\n",
       "      <th>2</th>\n",
       "      <td>1</td>\n",
       "      <td>10.10.40.0</td>\n",
       "      <td>0.0.0.255</td>\n",
       "      <td>1</td>\n",
       "    </tr>\n",
       "    <tr>\n",
       "      <th>3</th>\n",
       "      <td>1</td>\n",
       "      <td>10.10.50.0</td>\n",
       "      <td>0.0.0.255</td>\n",
       "      <td>1</td>\n",
       "    </tr>\n",
       "  </tbody>\n",
       "</table>\n",
       "</div>"
      ],
      "text/plain": [
       "   process_id     network   wildmask  area\n",
       "0           1  10.10.20.0  0.0.0.255     0\n",
       "1           1  10.10.30.0  0.0.0.255     0\n",
       "2           1  10.10.40.0  0.0.0.255     1\n",
       "3           1  10.10.50.0  0.0.0.255     1"
      ]
     },
     "execution_count": 6,
     "metadata": {},
     "output_type": "execute_result"
    }
   ],
   "source": [
    "networks_df"
   ]
  },
  {
   "cell_type": "markdown",
   "id": "8017c4bd",
   "metadata": {},
   "source": [
    "Parse the data from the DataFrames in two lists: processes and networks. Each list contains other nested lists with all the relevant configuration."
   ]
  },
  {
   "cell_type": "code",
   "execution_count": 7,
   "id": "51a0a635",
   "metadata": {},
   "outputs": [],
   "source": [
    "processes = processes_df.to_dict('records')\n",
    "networks = networks_df.to_dict('records')\n",
    "processes = [{k: str(v) for k, v in process.items()} for process in processes]\n",
    "networks = [{k: str(v) for k, v in network.items()} for network in networks]"
   ]
  },
  {
   "cell_type": "code",
   "execution_count": 8,
   "id": "54599def",
   "metadata": {},
   "outputs": [],
   "source": [
    "processes = [list(process.values()) for process in processes]\n",
    "networks = [list(network.values()) for network in networks]"
   ]
  },
  {
   "cell_type": "code",
   "execution_count": 9,
   "id": "48138390",
   "metadata": {},
   "outputs": [
    {
     "data": {
      "text/plain": [
       "[['1', '10.10.20.48'], ['5', '10.10.20.148']]"
      ]
     },
     "execution_count": 9,
     "metadata": {},
     "output_type": "execute_result"
    }
   ],
   "source": [
    "processes"
   ]
  },
  {
   "cell_type": "code",
   "execution_count": 10,
   "id": "eabb8262",
   "metadata": {},
   "outputs": [
    {
     "data": {
      "text/plain": [
       "[['1', '10.10.20.0', '0.0.0.255', '0'],\n",
       " ['1', '10.10.30.0', '0.0.0.255', '0'],\n",
       " ['1', '10.10.40.0', '0.0.0.255', '1'],\n",
       " ['1', '10.10.50.0', '0.0.0.255', '1']]"
      ]
     },
     "execution_count": 10,
     "metadata": {},
     "output_type": "execute_result"
    }
   ],
   "source": [
    "networks"
   ]
  },
  {
   "cell_type": "markdown",
   "id": "788224e2",
   "metadata": {},
   "source": [
    "### Create the XML-content to set the configuration"
   ]
  },
  {
   "cell_type": "markdown",
   "id": "9797c82b",
   "metadata": {},
   "source": [
    "The strings ospf_process_conf and ospf_networks_conf contain the XML-content to configure a process and a router ID, and all the relevant networks to be advertised, respectively."
   ]
  },
  {
   "cell_type": "code",
   "execution_count": 11,
   "id": "193d05c7",
   "metadata": {},
   "outputs": [],
   "source": [
    "conf_header_start = \"<config xmlns='urn:ietf:params:xml:ns:netconf:base:1.0'>\"\n",
    "conf_header_end = \"</config>\"\n",
    "\n",
    "ospf_process_conf = '''\n",
    "<native xmlns=\"http://cisco.com/ns/yang/Cisco-IOS-XE-native\">\n",
    "    <router>\n",
    "        <router-ospf xmlns=\"http://cisco.com/ns/yang/Cisco-IOS-XE-ospf\">\n",
    "            <ospf>\n",
    "                <process-id>\n",
    "                    <id>{}</id>\n",
    "                    <router-id>{}</router-id>\n",
    "                </process-id>\n",
    "            </ospf>\n",
    "        </router-ospf>\n",
    "    </router>\n",
    "</native>\n",
    "'''\n",
    "\n",
    "ospf_networks_conf = '''\n",
    "<native xmlns=\"http://cisco.com/ns/yang/Cisco-IOS-XE-native\">\n",
    "    <router>\n",
    "        <router-ospf xmlns=\"http://cisco.com/ns/yang/Cisco-IOS-XE-ospf\">\n",
    "            <ospf>\n",
    "                <process-id>\n",
    "                    <id>{}</id>\n",
    "                    <network>\n",
    "                        <ip>{}</ip>\n",
    "                        <wildcard>{}</wildcard>\n",
    "                        <area>{}</area>\n",
    "                    </network>\n",
    "                </process-id>\n",
    "            </ospf>\n",
    "        </router-ospf>\n",
    "    </router>\n",
    "</native>\n",
    "'''"
   ]
  },
  {
   "cell_type": "markdown",
   "id": "56ef97a6",
   "metadata": {},
   "source": [
    "Generic function to update the configuration of a device based on an XML string and all the relevant parameters to be set."
   ]
  },
  {
   "cell_type": "code",
   "execution_count": 12,
   "id": "3125093c",
   "metadata": {},
   "outputs": [],
   "source": [
    "def update_config(xml_config, config_parameters):\n",
    "    try:\n",
    "        device_connection = ncclient.manager.connect(\n",
    "            host = host_info['ip'],\n",
    "            username = host_info['username'],\n",
    "            password = host_info['pwd'],\n",
    "            port = host_info['netconf_port'],\n",
    "            device_params= {'name': 'csr'},\n",
    "            hostkey_verify=False\n",
    "        )\n",
    "        print(\"Connected to the device!\")\n",
    "    except:\n",
    "        print(\"Failure...\")\n",
    "        \n",
    "    configuration = conf_header_start\n",
    "    for config_parameter in config_parameters:\n",
    "        configuration += xml_config.format(*config_parameter)\n",
    "    configuration += conf_header_end\n",
    "    device_connection.edit_config(target='running', config=configuration)\n",
    "    print(\"Config pushed successfuly!\")"
   ]
  },
  {
   "cell_type": "code",
   "execution_count": 13,
   "id": "03333b06",
   "metadata": {
    "scrolled": true
   },
   "outputs": [
    {
     "name": "stdout",
     "output_type": "stream",
     "text": [
      "Connected to the device!\n",
      "Config pushed successfuly!\n"
     ]
    }
   ],
   "source": [
    "update_config(ospf_process_conf, processes)"
   ]
  },
  {
   "cell_type": "code",
   "execution_count": 14,
   "id": "2707f136",
   "metadata": {
    "scrolled": true
   },
   "outputs": [
    {
     "name": "stdout",
     "output_type": "stream",
     "text": [
      "Connected to the device!\n",
      "Config pushed successfuly!\n"
     ]
    }
   ],
   "source": [
    "update_config(ospf_networks_conf, networks)"
   ]
  },
  {
   "cell_type": "markdown",
   "id": "8474e7e1",
   "metadata": {},
   "source": [
    "# Verify configuration using RESTCONF"
   ]
  },
  {
   "cell_type": "code",
   "execution_count": 15,
   "id": "df3e06c9",
   "metadata": {},
   "outputs": [],
   "source": [
    "import requests\n",
    "import json"
   ]
  },
  {
   "cell_type": "markdown",
   "id": "2dbfcf1b",
   "metadata": {},
   "source": [
    "Set the headers for the HTTP request, stating the content to be sent and received (JSON/yang-data)."
   ]
  },
  {
   "cell_type": "code",
   "execution_count": 16,
   "id": "beec3788",
   "metadata": {},
   "outputs": [],
   "source": [
    "headers = {'Content-Type': 'application/yang-data+json',\n",
    "            'Accept': 'application/yang-data+json'} "
   ]
  },
  {
   "cell_type": "markdown",
   "id": "f36a5d9a",
   "metadata": {},
   "source": [
    "### Craft and send HTTP GET request to the appropriate endpoint"
   ]
  },
  {
   "cell_type": "code",
   "execution_count": 17,
   "id": "0a34e373",
   "metadata": {},
   "outputs": [],
   "source": [
    "api_endpoint = \"data/Cisco-IOS-XE-native:native/router/Cisco-IOS-XE-ospf:router-ospf/ospf/process-id\"\n",
    "url_begin = \"https://{}:{}/restconf/\""
   ]
  },
  {
   "cell_type": "code",
   "execution_count": 18,
   "id": "7ee9235f",
   "metadata": {},
   "outputs": [],
   "source": [
    "url_begin = url_begin.format(host_info['ip'], host_info['restconf_port'])"
   ]
  },
  {
   "cell_type": "code",
   "execution_count": 19,
   "id": "306cc4f4",
   "metadata": {},
   "outputs": [],
   "source": [
    "url = url_begin + api_endpoint"
   ]
  },
  {
   "cell_type": "markdown",
   "id": "f011a9f6",
   "metadata": {},
   "source": [
    "Send the request to get the OSPF configuration and check if the response code is 200 (OK)."
   ]
  },
  {
   "cell_type": "code",
   "execution_count": 20,
   "id": "1739668e",
   "metadata": {},
   "outputs": [
    {
     "name": "stderr",
     "output_type": "stream",
     "text": [
      "/Users/gerivives/opt/anaconda3/lib/python3.9/site-packages/urllib3/connectionpool.py:1045: InsecureRequestWarning: Unverified HTTPS request is being made to host '10.10.20.48'. Adding certificate verification is strongly advised. See: https://urllib3.readthedocs.io/en/1.26.x/advanced-usage.html#ssl-warnings\n",
      "  warnings.warn(\n"
     ]
    }
   ],
   "source": [
    "response = requests.get(url, auth=(host_info['username'], host_info['pwd']), headers=headers, verify=False)\n",
    "\n",
    "if (response.status_code != 200):\n",
    "    print(\"*** Something went wrong with the request! ***\")"
   ]
  },
  {
   "cell_type": "code",
   "execution_count": 21,
   "id": "7a32717f",
   "metadata": {},
   "outputs": [
    {
     "name": "stdout",
     "output_type": "stream",
     "text": [
      "{\n",
      "  \"Cisco-IOS-XE-ospf:process-id\": [\n",
      "    {\n",
      "      \"id\": 1,\n",
      "      \"network\": [\n",
      "        {\n",
      "          \"ip\": \"10.10.20.0\",\n",
      "          \"wildcard\": \"0.0.0.255\",\n",
      "          \"area\": 0\n",
      "        },\n",
      "        {\n",
      "          \"ip\": \"10.10.30.0\",\n",
      "          \"wildcard\": \"0.0.0.255\",\n",
      "          \"area\": 0\n",
      "        },\n",
      "        {\n",
      "          \"ip\": \"10.10.40.0\",\n",
      "          \"wildcard\": \"0.0.0.255\",\n",
      "          \"area\": 1\n",
      "        },\n",
      "        {\n",
      "          \"ip\": \"10.10.50.0\",\n",
      "          \"wildcard\": \"0.0.0.255\",\n",
      "          \"area\": 1\n",
      "        }\n",
      "      ],\n",
      "      \"router-id\": \"10.10.20.48\"\n",
      "    },\n",
      "    {\n",
      "      \"id\": 5,\n",
      "      \"router-id\": \"10.10.20.148\"\n",
      "    }\n",
      "  ]\n",
      "}\n",
      "\n"
     ]
    }
   ],
   "source": [
    "print(response.text)"
   ]
  },
  {
   "cell_type": "markdown",
   "id": "95cdfe66",
   "metadata": {},
   "source": [
    "### Parse the data to compare it with the spreadsheet"
   ]
  },
  {
   "cell_type": "code",
   "execution_count": 22,
   "id": "c3be4adb",
   "metadata": {},
   "outputs": [],
   "source": [
    "processes_get = []\n",
    "networks_get = []"
   ]
  },
  {
   "cell_type": "markdown",
   "id": "749e16f8",
   "metadata": {},
   "source": [
    "Parse all the data from the JSON response in the same format as the data read from the spreadsheet to compare it."
   ]
  },
  {
   "cell_type": "code",
   "execution_count": 23,
   "id": "340379f4",
   "metadata": {},
   "outputs": [],
   "source": [
    "data = json.loads(response.text)\n",
    "for process in data['Cisco-IOS-XE-ospf:process-id']:\n",
    "    processes_get.append([str(process['id']), process['router-id']])\n",
    "    if ('network' in process):\n",
    "        for network in process['network']:\n",
    "            networks_get.append([str(process['id']), network['ip'], network['wildcard'], str(network['area'])])"
   ]
  },
  {
   "cell_type": "code",
   "execution_count": 24,
   "id": "db36dbab",
   "metadata": {},
   "outputs": [
    {
     "data": {
      "text/plain": [
       "[['1', '10.10.20.48'], ['5', '10.10.20.148']]"
      ]
     },
     "execution_count": 24,
     "metadata": {},
     "output_type": "execute_result"
    }
   ],
   "source": [
    "processes_get"
   ]
  },
  {
   "cell_type": "code",
   "execution_count": 25,
   "id": "976b3f83",
   "metadata": {},
   "outputs": [
    {
     "data": {
      "text/plain": [
       "[['1', '10.10.20.48'], ['5', '10.10.20.148']]"
      ]
     },
     "execution_count": 25,
     "metadata": {},
     "output_type": "execute_result"
    }
   ],
   "source": [
    "processes"
   ]
  },
  {
   "cell_type": "code",
   "execution_count": 26,
   "id": "86a29bdd",
   "metadata": {},
   "outputs": [
    {
     "data": {
      "text/plain": [
       "[['1', '10.10.20.0', '0.0.0.255', '0'],\n",
       " ['1', '10.10.30.0', '0.0.0.255', '0'],\n",
       " ['1', '10.10.40.0', '0.0.0.255', '1'],\n",
       " ['1', '10.10.50.0', '0.0.0.255', '1']]"
      ]
     },
     "execution_count": 26,
     "metadata": {},
     "output_type": "execute_result"
    }
   ],
   "source": [
    "networks_get"
   ]
  },
  {
   "cell_type": "code",
   "execution_count": 27,
   "id": "d4d14d24",
   "metadata": {},
   "outputs": [
    {
     "data": {
      "text/plain": [
       "[['1', '10.10.20.0', '0.0.0.255', '0'],\n",
       " ['1', '10.10.30.0', '0.0.0.255', '0'],\n",
       " ['1', '10.10.40.0', '0.0.0.255', '1'],\n",
       " ['1', '10.10.50.0', '0.0.0.255', '1']]"
      ]
     },
     "execution_count": 27,
     "metadata": {},
     "output_type": "execute_result"
    }
   ],
   "source": [
    "networks"
   ]
  },
  {
   "cell_type": "code",
   "execution_count": 28,
   "id": "acbe5bbe",
   "metadata": {},
   "outputs": [
    {
     "name": "stdout",
     "output_type": "stream",
     "text": [
      "*** The processes and/or router IDs are the same! ***\n"
     ]
    }
   ],
   "source": [
    "if (processes_get == processes):\n",
    "    print(\"*** The processes and/or router IDs are the same! ***\")"
   ]
  },
  {
   "cell_type": "code",
   "execution_count": 29,
   "id": "85ef4515",
   "metadata": {},
   "outputs": [
    {
     "name": "stdout",
     "output_type": "stream",
     "text": [
      "*** The networks and/or areas for the processes are the same! ***\n"
     ]
    }
   ],
   "source": [
    "if (networks_get == networks):\n",
    "    print(\"*** The networks and/or areas for the processes are the same! ***\")"
   ]
  }
 ],
 "metadata": {
  "kernelspec": {
   "display_name": "Python 3 (ipykernel)",
   "language": "python",
   "name": "python3"
  },
  "language_info": {
   "codemirror_mode": {
    "name": "ipython",
    "version": 3
   },
   "file_extension": ".py",
   "mimetype": "text/x-python",
   "name": "python",
   "nbconvert_exporter": "python",
   "pygments_lexer": "ipython3",
   "version": "3.9.13"
  }
 },
 "nbformat": 4,
 "nbformat_minor": 5
}
